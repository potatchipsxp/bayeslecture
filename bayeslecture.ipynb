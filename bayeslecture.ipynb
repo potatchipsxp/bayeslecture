{
 "cells": [
  {
   "cell_type": "markdown",
   "metadata": {},
   "source": [
    "### Exploration  of Bayesian Update using Coin Flip Example"
   ]
  },
  {
   "cell_type": "code",
   "execution_count": 14,
   "metadata": {},
   "outputs": [],
   "source": [
    "%matplotlib inline\n",
    "import numpy as np\n",
    "from matplotlib import pyplot as plt\n",
    "import scipy.stats as stats\n",
    "import random"
   ]
  },
  {
   "cell_type": "markdown",
   "metadata": {},
   "source": [
    "At first pass bayes is very simple. It revolves around a relatively simple theorem, P(a|b) = (P(b|a)xP(a))/P(b) or maybe more clearly stated P(a|b)xP(b) = (P(b|a)xP(a))."
   ]
  },
  {
   "cell_type": "markdown",
   "metadata": {},
   "source": [
    "P(a) is the probability of a. <br/>\n",
    "P(b) is the probability of b. <br/>\n",
    "P(a|b) is the probability of a, given that b has occured."
   ]
  },
  {
   "cell_type": "markdown",
   "metadata": {},
   "source": [
    "we can see this clearly with a venn diagram. \n",
    "\n",
    "even though the yellow is larger than the blue, their joint probability space is actually the same because it is proportionally larger in the blue. This will always be true because the intersecting area of the probability space is the same compared to the total probability space.\n",
    "\n",
    "<img src=\"venndiagramProbs.png\">"
   ]
  },
  {
   "cell_type": "markdown",
   "metadata": {},
   "source": [
    "So now we can think of this formula (P(b|a)xP(a))/P(b) or P(h|d) = (P(d|h)xP(h))/P(d) "
   ]
  },
  {
   "cell_type": "markdown",
   "metadata": {},
   "source": [
    "lets unpack that last one a bit... <br/>\n",
    "Probability of the hypothesis given the data = the probability of the data given the hypothesis, times the probability of the hypothesis all divided by the probability of the data\n",
    "<br/>\n",
    "\n",
    "probability h given d is likelihood of d times prior of h dvidied by prior of d"
   ]
  },
  {
   "cell_type": "markdown",
   "metadata": {},
   "source": [
    "another conceptual metaphor for bayesian thinking is imagining you are on a path, and the path splits with every event. <br/>\n",
    "so for example, in the diagram below: <br/>\n",
    "first a coin is picked form a bag, that coin could be either fair or unfair, ie a two pronged fork in the path.<br/>\n",
    "next the coin is flipped, so each path will be split again, into heads and tail.<br/>\n",
    "all of the paths will be all of the possibilities<br/>\n",
    "\n",
    "<img2 src=\"cointreediagram.png\">"
   ]
  },
  {
   "cell_type": "markdown",
   "metadata": {},
   "source": [
    "<img src=\"cointree.png\">"
   ]
  },
  {
   "cell_type": "markdown",
   "metadata": {},
   "source": [
    "if we want to use bayes on this tree diagram to determine if our coin is unfair or fair we can do it by, eliminating the branches where our data wasnt found and then seeing how likely it is that we are in the branches that still remain for the fair coin. \n",
    "lets do this with a slightly more complicated example:\n",
    "\n",
    "in this diagram the coin has now been flipped twice and we got heads both times.\n",
    "<img src=\"cointreediagram.png\">"
   ]
  },
  {
   "cell_type": "markdown",
   "metadata": {},
   "source": [
    " think about it as if you were at the bottom end of a path, but you werent sure which path you were in, could you figure out the probability you were in any given path based on the data you have seen so far?"
   ]
  },
  {
   "cell_type": "markdown",
   "metadata": {},
   "source": [
    "Bayesian logic becomes very clear in the monty hall problem. In the monty hall probelm there is a game show host (Monty) and there are three doors, one of which has a prize behond it. The player gets to pick a door, at which point monty will then open a different door that doesnt contain the prize. Monty will then ask the player if they want to switch their door. So lets try it out."
   ]
  },
  {
   "cell_type": "code",
   "execution_count": 15,
   "metadata": {},
   "outputs": [],
   "source": [
    "#set up a game board with three doors\n",
    "doors = [0,0,0]\n",
    "#hide a prize behond one of the doors\n",
    "doors[random.randint(1,3)] = 1"
   ]
  },
  {
   "cell_type": "code",
   "execution_count": 16,
   "metadata": {},
   "outputs": [],
   "source": [
    "#guess a door\n",
    "guess = 2\n",
    "#set that door as the guessed door\n",
    "doors[guess-1] = doors[guess-1] + 2"
   ]
  },
  {
   "cell_type": "markdown",
   "metadata": {},
   "source": [
    "remember that right now our prior for each door at this point is p(d[i]) = .333"
   ]
  },
  {
   "cell_type": "code",
   "execution_count": 17,
   "metadata": {},
   "outputs": [],
   "source": [
    "#Monty picks a door to show us\n",
    "emptydoors = []\n",
    "for i in range(0,len(doors)):\n",
    "    if(doors[i] == 0):\n",
    "        emptydoors.append(i)\n",
    "showndoor = emptydoors[random.randrange(0,2,1)]\n"
   ]
  },
  {
   "cell_type": "code",
   "execution_count": 19,
   "metadata": {},
   "outputs": [
    {
     "name": "stdout",
     "output_type": "stream",
     "text": [
      "how about if I show you door number  1  it has  0\n"
     ]
    }
   ],
   "source": [
    "#Monty then shows us a door\n",
    "print(\"how about if I show you door number \",showndoor + 1, \" it has \", doors[showndoor])"
   ]
  },
  {
   "cell_type": "markdown",
   "metadata": {},
   "source": [
    "Now we have two hypotheses: we have the right door, or the prize is behind the other door. And now we have some evidence, the door that was shown us. We can now use this to compute bayesian updates.\n"
   ]
  },
  {
   "cell_type": "markdown",
   "metadata": {},
   "source": [
    "For hypothesis correct door (H1)\n",
    "\n",
    "prior (P(H1)) is  .333\n",
    "marginal likelyhood (P(E)) of the door we were shown = 1/2 (host chooses one of two doors to show us\n",
    "likelyhood (P(E|H)) = 1/2 (probability of host choosing either particular door since neither has the prize\n",
    "\n",
    "P(OurDoor | door shown) = (likelyhood * prior)/marginal likelyhood = ...\n",
    "\n",
    "P(H1|E) = (P(E|H1) x P(H1)) / P(E) = (1/2 x 1/3) / (1/2) = 1/3"
   ]
  },
  {
   "cell_type": "markdown",
   "metadata": {},
   "source": [
    "For hypothesis other door (H2)\n",
    "\n",
    "prior (P(H2)) is  .333\n",
    "marginal likelyhood (P(E)) of the door we were shown = 1/2 (host chooses one of two doors to show us\n",
    "likelyhood (P(E|H)) = 1 (There is only one possible door for the host to choose from!)\n",
    "\n",
    "P(OurDoor | door shown) = (likelyhood * prior)/marginal likelyhood = ...\n",
    "\n",
    "P(H2|E) = (P(E|H2) x P(H2)) / P(E) = (1 x 1/3) / (1/2) = 2/3"
   ]
  },
  {
   "cell_type": "markdown",
   "metadata": {},
   "source": []
  },
  {
   "cell_type": "code",
   "execution_count": 21,
   "metadata": {},
   "outputs": [
    {
     "name": "stdout",
     "output_type": "stream",
     "text": [
      "1\n"
     ]
    }
   ],
   "source": [
    "#so what door do we want to pick now?\n",
    "newdoorchoice = 3\n",
    "print(doors[newdoorchoice - 1])"
   ]
  },
  {
   "cell_type": "code",
   "execution_count": null,
   "metadata": {},
   "outputs": [],
   "source": []
  },
  {
   "cell_type": "markdown",
   "metadata": {},
   "source": [
    "Now lets try another way of doing bayesian thinking. Here we have a coin which will be flipped, and we have a prior on what we think the coins fairness is. If we think it is a fair coin that would be .5."
   ]
  },
  {
   "cell_type": "code",
   "execution_count": 22,
   "metadata": {},
   "outputs": [],
   "source": [
    "# Hypothesis space: possible biases on the coin\n",
    "biases = np.linspace(0,1,100)\n",
    "# Actual bias on coin. .5 is fair.   .8 is 80% heads, etc.\n",
    "true_bias = 0.4"
   ]
  },
  {
   "cell_type": "code",
   "execution_count": 27,
   "metadata": {},
   "outputs": [
    {
     "data": {
      "image/png": "[encoded data removed]",
      "text/plain": [
       "<matplotlib.figure.Figure at 0x268f8144c18>"
      ]
     },
     "metadata": {},
     "output_type": "display_data"
    }
   ],
   "source": [
    "# Uncomment one of these lines to select a prior (initial votes for all hypotheses)\n",
    "# prior = 2 - stats.norm.pdf(biases,true_bias,.2) # \"Upside down\" around true bias. A kind of worst case\n",
    "prior = stats.norm.pdf(biases,.8,.2) # Gaussian around .5\n",
    "# prior = stats.uniform.pdf(biases) # Uniform\n",
    "\n",
    "\n",
    "num_iterations = 5 # Iterations of Bayesian update. TODO: Allow for grid\n",
    "n_flips = 1000 # Number of coin flips at each iteration\n",
    "\n",
    "fig = plt.gcf()\n",
    "fig.set_size_inches(12,4)\n",
    "\n",
    "# Do num_iterations of Bayesian update\n",
    "for i in range(num_iterations):\n",
    "    \n",
    "    # Flip the coin n_flips times.\n",
    "    flips = stats.bernoulli.rvs(true_bias, size=n_flips)\n",
    "    num_heads = flips.sum()\n",
    "    \n",
    "    # Compute the likelihood.  p(D|H) \n",
    "    likelihood = stats.binom.pmf(num_heads, n_flips, biases)\n",
    "    \n",
    "    # Increment subplot\n",
    "    ax = plt.subplot(1, num_iterations, i+1)\n",
    "\n",
    "    # Plot initial prior: p(H)\n",
    "    if i == 0:\n",
    "        plt.plot(biases,prior,'b')\n",
    "\n",
    "    # Bayes! Compute posterior: p(H|D) = p(H)p(D|H)/p(E)\n",
    "    posterior = (prior*likelihood)/np.trapz(prior*likelihood,biases)\n",
    "\n",
    "    # Plot posterior\n",
    "    if (i > 0):\n",
    "        plt.plot(biases,posterior, 'b')\n",
    "\n",
    "    # Plot the true bias\n",
    "    plt.plot([0,1],[0,0],'k--', alpha=.2)\n",
    "    plt.plot(true_bias, 0, '.r', markersize=10)\n",
    "    # How in love will you be \n",
    "    plt.xlabel(\"Tails -- Fair -- Heads\")\n",
    "\n",
    "    # Hack to get extra padding\n",
    "    ymax = ax.get_ylim()[1]\n",
    "    ax.set_ylim([-.1,ymax + .1])\n",
    "\n",
    "    # Set the prior for the next iteration to be the curent posterior\n",
    "    prior = posterior \n"
   ]
  },
  {
   "cell_type": "code",
   "execution_count": null,
   "metadata": {},
   "outputs": [],
   "source": []
  },
  {
   "cell_type": "code",
   "execution_count": null,
   "metadata": {},
   "outputs": [],
   "source": []
  }
 ],
 "metadata": {
  "anaconda-cloud": {},
  "kernelspec": {
   "display_name": "Python 3",
   "language": "python",
   "name": "python3"
  },
  "language_info": {
   "codemirror_mode": {
    "name": "ipython",
    "version": 3
   },
   "file_extension": ".py",
   "mimetype": "text/x-python",
   "name": "python",
   "nbconvert_exporter": "python",
   "pygments_lexer": "ipython3",
   "version": "3.6.4"
  }
 },
 "nbformat": 4,
 "nbformat_minor": 1
}
